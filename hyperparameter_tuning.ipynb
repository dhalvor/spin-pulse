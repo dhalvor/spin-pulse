{
 "cells": [
  {
   "cell_type": "markdown",
   "id": "35c1fb8c",
   "metadata": {},
   "source": [
    "# Tuning Hyperparameters of Simulated Annealing Algorithm"
   ]
  },
  {
   "cell_type": "code",
   "execution_count": 1,
   "id": "9d429d41",
   "metadata": {},
   "outputs": [],
   "source": [
    "import numpy as np\n",
    "import matplotlib.pyplot as plt\n",
    "from optimisation.optimisers import SimulatedAnnealing\n",
    "\n",
    "# Set global parameters kept constant\n",
    "n_max = 10\n",
    "tau = 100e-9\n",
    "pulse_length = 100\n",
    "band_dig = 5\n",
    "amp_dig = 1\n",
    "amp_max = 0\n",
    "det_max = 0.1/tau\n",
    "init_temp = 1\n",
    "w1_max = 2*np.pi*40e6\n",
    "lambda_val = 1000"
   ]
  },
  {
   "cell_type": "markdown",
   "id": "578f9f86",
   "metadata": {},
   "source": [
    "## Cooling rate"
   ]
  },
  {
   "cell_type": "code",
   "execution_count": null,
   "id": "e9fa1652",
   "metadata": {},
   "outputs": [
    {
     "name": "stdout",
     "output_type": "stream",
     "text": [
      "Starting cooling rate: 0.95\n",
      " Done!\n",
      "Trial 1 of 3 complete.\n",
      " Best Error=    4.8780174344287275E-009\n",
      "Trial 2 of 3 complete. Done!\n",
      " Best Error=    7.7550432742157227E-010\n",
      "\n",
      "Trial 3 of 3 complete.\n",
      "Starting cooling rate: 0.99\n",
      " Done!\n",
      " Best Error=    5.7273197295870659E-009\n",
      "Trial 1 of 3 complete.\n",
      " Done!\n",
      " Best Error=    2.3632882317770054E-009\n",
      "Trial 2 of 3 complete.\n",
      " Done!\n",
      " Best Error=    5.0138606599858804E-009\n",
      "Trial 3 of 3 complete.\n",
      "Starting cooling rate: 0.999\n",
      " Done!\n",
      " Best Error=    2.0546245815822317E-009\n"
     ]
    }
   ],
   "source": [
    "cooling_rate_array = np.array([0.95, 0.99, 0.999])\n",
    "# cooling_rate_array = np.array([0.5, 0.51])\n",
    "trial_num = 3\n",
    "results_array = np.zeros([trial_num, len(cooling_rate_array)])\n",
    "\n",
    "for c in range(len(cooling_rate_array)):\n",
    "    cooling_rate = cooling_rate_array[c]\n",
    "    print(f'Starting cooling rate: {cooling_rate}')\n",
    "    for i in range(trial_num):\n",
    "        opt = SimulatedAnnealing()\n",
    "        pulse = opt.run_annealing(\n",
    "            n_max=n_max,\n",
    "            pulse_length=pulse_length,\n",
    "            band_dig=band_dig,\n",
    "            amp_dig=amp_dig,\n",
    "            amp_max=amp_max,\n",
    "            det_max=det_max,\n",
    "            init_temp=init_temp,\n",
    "            cooling_rate=cooling_rate,\n",
    "            w1_max=w1_max,\n",
    "            lambda_val=lambda_val,\n",
    "            tau=tau,\n",
    "            save_pulse=False)\n",
    "        \n",
    "        results_array[i, c] = pulse.best_error\n",
    "        print(f'Trial {i + 1} of {trial_num} complete.')"
   ]
  },
  {
   "cell_type": "markdown",
   "id": "950dbf11",
   "metadata": {},
   "source": [
    "## Starting temperature"
   ]
  },
  {
   "cell_type": "code",
   "execution_count": 2,
   "id": "b3429144",
   "metadata": {},
   "outputs": [
    {
     "name": "stdout",
     "output_type": "stream",
     "text": [
      "Starting temp: 1.0\n",
      " Done!\n",
      " Best Error=    3.5223053362898327E-009\n",
      "Trial 1 of 3 complete.\n",
      "Trial 2 of 3 complete.\n",
      " Done!\n",
      " Best Error=    3.6846952156111001E-009\n",
      "Trial 3 of 3 complete.\n",
      "Starting temp: 10000.0\n",
      " Done!\n",
      " Best Error=    2.0337740380682590E-009\n",
      "Trial 1 of 3 complete.\n",
      " Done!\n",
      " Best Error=    3.9488723402314463E-009\n",
      "Trial 2 of 3 complete.\n",
      " Done!\n",
      " Best Error=    3.8902487897729543E-009\n",
      "Trial 3 of 3 complete.\n",
      " Done!\n",
      " Best Error=    3.6806969694325176E-009\n"
     ]
    }
   ],
   "source": [
    "# Set global parameters kept constant\n",
    "n_max = 10\n",
    "tau = 100e-9\n",
    "pulse_length = 100\n",
    "band_dig = 5\n",
    "amp_dig = 1\n",
    "amp_max = 0\n",
    "det_max = 0.1/tau\n",
    "cooling_rate = 0.95\n",
    "w1_max = 2*np.pi*40e6\n",
    "lambda_val = 1000\n",
    "\n",
    "# starting_temp_array = np.array([1, 100, 1000, 1e4, 1e5])\n",
    "starting_temp_array = np.array([1, 1e4])\n",
    "trial_num = 3\n",
    "results_array = np.zeros([trial_num, len(starting_temp_array)])\n",
    "\n",
    "for c in range(len(starting_temp_array)):\n",
    "    \n",
    "    init_temp = starting_temp_array[c]\n",
    "    print(f'Starting temp: {init_temp}')\n",
    "\n",
    "    for i in range(trial_num):\n",
    "        opt = SimulatedAnnealing()\n",
    "        pulse = opt.run_annealing(\n",
    "            n_max=n_max,\n",
    "            pulse_length=pulse_length,\n",
    "            band_dig=band_dig,\n",
    "            amp_dig=amp_dig,\n",
    "            amp_max=amp_max,\n",
    "            det_max=det_max,\n",
    "            init_temp=init_temp,\n",
    "            cooling_rate=cooling_rate,\n",
    "            w1_max=w1_max,\n",
    "            lambda_val=lambda_val,\n",
    "            tau=tau,\n",
    "            save_pulse=False)\n",
    "        \n",
    "        results_array[i, c] = pulse.best_error\n",
    "        print(f'Trial {i + 1} of {trial_num} complete.')"
   ]
  },
  {
   "cell_type": "markdown",
   "id": "3c5da909",
   "metadata": {},
   "source": [
    "## Parameter step-size and scaling"
   ]
  },
  {
   "cell_type": "code",
   "execution_count": null,
   "id": "4d3a5271",
   "metadata": {},
   "outputs": [
    {
     "name": "stdout",
     "output_type": "stream",
     "text": [
      "Starting init_step: 0.2 trials.\n"
     ]
    }
   ],
   "source": [
    "# Code changed to implement T_init = 1 and cooling_rate = 0.95 as fixed metaparams\n",
    "# Now the initial step-size for fourier coefficient proposal is an input parameter (initially set to 0.2)\n",
    "# Below we will vary this parameter from 0.05 to 1 in steps of 0.05 and record the convergence results.\n",
    "# Set global parameters kept constant\n",
    "n_max = 10\n",
    "tau = 100e-9\n",
    "pulse_length = 100\n",
    "band_dig = 11\n",
    "amp_dig = 1\n",
    "amp_max = 0\n",
    "det_max = 0.1/tau\n",
    "w1_max = 2*np.pi*40e6\n",
    "lambda_val = 1000\n",
    "\n",
    "# init_step_array = np.array([0.01, 0.05, 0.1, 0.2, 0.3, 0.4, 0.5, 0.6, 0.7, 0.8, 0.9, 1.0])\n",
    "init_step_array = np.array([0.2])\n",
    "trial_num = 1\n",
    "results_array = np.zeros([trial_num, len(init_step_array)])\n",
    "\n",
    "for s in range(len(init_step_array)):\n",
    "    init_step = init_step_array[s]\n",
    "    print(f\"Starting init_step: {init_step} trials.\")\n",
    "\n",
    "    for i in range(trial_num):\n",
    "        opt = SimulatedAnnealing()\n",
    "        pulse = opt.run_annealing(\n",
    "                n_max=n_max,\n",
    "                pulse_length=pulse_length,\n",
    "                band_dig=band_dig,\n",
    "                amp_dig=amp_dig,\n",
    "                amp_max=amp_max,\n",
    "                det_max=det_max,\n",
    "                init_step = init_step,\n",
    "                w1_max=w1_max,\n",
    "                lambda_val=lambda_val,\n",
    "                tau=tau,\n",
    "                save_pulse=False)\n",
    "        \n",
    "        results_array[i, s] = pulse.best_error\n",
    "\n",
    "# Plot results\n",
    "plt.figure(figsize=(8,5))\n",
    "plt.plot(init_step_array, results_array[0, :], 'o--')\n",
    "# plt.plot(init_step_array, results_array[1, :], 'o--')\n",
    "# plt.plot(init_step_array, results_array[2, :], 'o--')\n",
    "plt.yscale(\"log\")\n",
    "plt.ylabel(\"Training error\")\n",
    "plt.xlabel(\"Simulated Annelaing init step_size\")\n",
    "plt.title(f\"Cooling rate tuning, {trial_num} trials per rate\")\n",
    "plt.show()"
   ]
  },
  {
   "cell_type": "markdown",
   "id": "f8b5349d",
   "metadata": {},
   "source": [
    "## Band-dig and amp-dig"
   ]
  },
  {
   "cell_type": "markdown",
   "id": "d76601b7",
   "metadata": {},
   "source": [
    "## Pulse time and maximum amplitude"
   ]
  },
  {
   "cell_type": "markdown",
   "id": "76c3aa53",
   "metadata": {},
   "source": [
    "## "
   ]
  }
 ],
 "metadata": {
  "kernelspec": {
   "display_name": "Pulse-Gen-env",
   "language": "python",
   "name": "python3"
  },
  "language_info": {
   "codemirror_mode": {
    "name": "ipython",
    "version": 3
   },
   "file_extension": ".py",
   "mimetype": "text/x-python",
   "name": "python",
   "nbconvert_exporter": "python",
   "pygments_lexer": "ipython3",
   "version": "3.10.12"
  }
 },
 "nbformat": 4,
 "nbformat_minor": 5
}
